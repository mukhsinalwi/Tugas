{
  "cells": [
    {
      "cell_type": "markdown",
      "metadata": {
        "id": "view-in-github",
        "colab_type": "text"
      },
      "source": [
        "<a href=\"https://colab.research.google.com/github/mukhsinalwi/Tugas/blob/main/Copy_of_Welcome_to_Colaboratory.ipynb\" target=\"_parent\"><img src=\"https://colab.research.google.com/assets/colab-badge.svg\" alt=\"Open In Colab\"/></a>"
      ]
    },
    {
      "cell_type": "code",
      "source": [
        "\n",
        "\"\"\"\n",
        "for i in \"mukhsin\" :\n",
        "  print (i)\n",
        "\n",
        "\n",
        "for i in range(10):\n",
        "  print(i)\n",
        "\n",
        "my_list = [2,4,6,\"kucing\"]\n",
        "for i in my_list:\n",
        "  print(i)\n",
        "\n",
        "\n",
        "\n",
        "for i in range(2,5):\n",
        "  print(i)\n",
        "\"\"\"\n",
        "for i in (range(2,10,2)):\n",
        "  print(i)\n",
        "\n",
        "list_nama = [\"mukhsin\", \"inge\", \"kent\"]\n",
        "for i in list_nama:\n",
        "  print(i + \"suka belajar python\")\n",
        "print(\"mereka semua suka belajar python\")"
      ],
      "metadata": {
        "id": "myQqQbJAEQqz",
        "colab": {
          "base_uri": "https://localhost:8080/"
        },
        "outputId": "d7f7f9ed-807c-4b98-9fe2-60f1eefd9e6b"
      },
      "execution_count": null,
      "outputs": [
        {
          "output_type": "stream",
          "name": "stdout",
          "text": [
            "2\n",
            "4\n",
            "6\n",
            "8\n",
            "mukhsinsuka belajar python\n",
            "ingesuka belajar python\n",
            "kentsuka belajar python\n",
            "mereka semua suka belajar python\n"
          ]
        }
      ]
    },
    {
      "cell_type": "code",
      "source": [
        "\"\"\"\n",
        "count= 0\n",
        "while count < 5:\n",
        "  print(count)\n",
        "  count +=1\n",
        "\n",
        "\n",
        "age = int(input(\"input your age: \"))\n",
        "while age <=0:\n",
        "  print(\"age can't be negative\")\n",
        "  age= int(input(\"input your age:\"))\n",
        "print(f\"your age {age} years old.\")\n",
        "\n",
        "\n",
        "\n",
        "while True:\n",
        "  age= int(input(\"input your age: \"))\n",
        "  if age>=0:\n",
        "    break\n",
        "  print(\"age can't be negative\")\n",
        "print(f\"your age {age} years old\")\n",
        "\n",
        "\n",
        "\n",
        "for i in range(10):\n",
        "  if i == 5\n",
        "  break\n",
        "  print(i)\n",
        "\n",
        "\n",
        "username_1= mukhsin\n",
        "username_2= alwi\n",
        "password_1= hello1\n",
        "password_2= hello2\n",
        "\n",
        "username = int(input(\"input your name :\"))\n",
        "while username == \"william\":\n",
        "  print(\"username is not foud\")\\\n",
        "\n",
        "\n",
        "\n",
        "username_1= \"mukhsin\"\n",
        "username_2= \"alwi\"\n",
        "password_1= \"hello1\"\n",
        "password_2= \"hello2\"\n",
        "\n",
        "while True:\n",
        "  username= (input(\"input your username: \"))\n",
        "  if username == username_1 or username == username_2:\n",
        "    print(\"username anda di temukan\")\n",
        "    break\n",
        "  else :\n",
        "    print(\"username is not found\")\n",
        "    continue\n",
        "\n",
        "\n",
        "while True:\n",
        "  password= (input(\"Masukan password anda\"))\n",
        "  if password == password_1 or password == password_2:\n",
        "    print(\"selamat anda berhasil login\")\n",
        "    break\n",
        "\n",
        "  else :\n",
        "    print(\"password yang anda masukan salah\")\n",
        "    continue\n",
        "\n",
        "\n",
        "\"\"\"\n",
        "username_1= \"mukhsin\"\n",
        "username_2= \"alwi\"\n",
        "password_1= \"hello1\"\n",
        "password_2= \"hello2\"\n",
        "List_Verifikasi_Gambar = [\"Kelinci\", \"Kucing\", \"Kera\", \"Kudanil\"]\n",
        "\n",
        "\n",
        "while True:\n",
        "  username= (input(\"input your username: \"))\n",
        "  if username == username_1 or username == username_2:\n",
        "    print(\"username anda di temukan\")\n",
        "    break\n",
        "  else :\n",
        "    print(\"username is not found\")\n",
        "    continue\n",
        "\n",
        "\n",
        "while True:\n",
        "  password= (input(\"Masukan password anda : \"))\n",
        "  if password == password_1 or password == password_2:\n",
        "    print(\"selamat anda berhasil login\")\n",
        "    break\n",
        "\n",
        "  else :\n",
        "    print(\"password yang anda masukan salah\")\n",
        "    continue\n",
        "\n",
        "while True:\n",
        "  Pemilihan_Gambar = (input(\"Masukan nama hewan untuk memverifikasi : \"))\n",
        "  if Pemilihan_Gambar in List_Verifikasi_Gambar:\n",
        "    print(\"Selamat Verifikasi Berhasil!!\")\n",
        "    break\n",
        "\n",
        "  else:\n",
        "    print(\"Verifikasi Gagal, Silahkan Coba Lagi!\")\n",
        "    continue\n",
        "\n",
        "\n",
        "\n",
        "\n",
        "\n",
        "\n",
        "\n",
        "\n",
        "\n",
        "\n",
        "\n"
      ],
      "metadata": {
        "colab": {
          "base_uri": "https://localhost:8080/"
        },
        "id": "HD0RvlSNKO4g",
        "outputId": "23a71ae8-4f56-451a-e7d1-e05efc747332"
      },
      "execution_count": 6,
      "outputs": [
        {
          "output_type": "stream",
          "name": "stdout",
          "text": [
            "input your username: mukhsin\n",
            "username anda di temukan\n",
            "Masukan password anda : hello1\n",
            "selamat anda berhasil login\n",
            "Masukan nama hewan untuk memverifikasi : Kudanil\n",
            "Selamat Verifikasi Berhasil!!\n"
          ]
        }
      ]
    },
    {
      "cell_type": "markdown",
      "source": [],
      "metadata": {
        "id": "NgDA_XINrKkq"
      }
    },
    {
      "cell_type": "markdown",
      "source": [],
      "metadata": {
        "id": "pMM-lklbrJOV"
      }
    }
  ],
  "metadata": {
    "colab": {
      "provenance": [],
      "include_colab_link": true
    },
    "kernelspec": {
      "display_name": "Python 3",
      "name": "python3"
    }
  },
  "nbformat": 4,
  "nbformat_minor": 0
}